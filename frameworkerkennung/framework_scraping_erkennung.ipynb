{
  "cells": [
    {
      "cell_type": "markdown",
      "metadata": {
        "id": "oOba8ko1Iypi"
      },
      "source": [
        "### Vorbereitung: [google-play-scraper](https://github.com/bolithium/google-play-scraper), [apkeep](https://github.com/EFForg/apkeep/) und [Android build-tools](https://developer.android.com/tools/releases/build-tools) (für dexdump) installieren."
      ]
    },
    {
      "cell_type": "code",
      "execution_count": null,
      "metadata": {
        "colab": {
          "base_uri": "https://localhost:8080/"
        },
        "collapsed": true,
        "id": "QibRmtDFkcsg",
        "outputId": "69277bbd-4649-4493-b6bb-ade94894c568"
      },
      "outputs": [],
      "source": [
        "import sys\n",
        "import os\n",
        "\n",
        "# Colab-Beispielordner entfernen\n",
        "!rm -r /content/sample_data\n",
        "\n",
        "# Google Play Scraper\n",
        "!git clone https://github.com/bolithium/google-play-scraper.git\n",
        "os.makedirs('/content/apks', exist_ok=True)\n",
        "module_path = '/content/google-play-scraper/'\n",
        "if module_path not in sys.path:\n",
        "    sys.path.append(module_path)\n",
        "\n",
        "# APKeep\n",
        "!wget -O apkeep https://github.com/EFForg/apkeep/releases/download/0.17.0/apkeep-x86_64-unknown-linux-gnu\n",
        "!chmod +x apkeep\n",
        "\n",
        "# Herunterladen der Android build-tools für dexdump, um classes*.dex-Dateien untersuchen zu können\n",
        "#!sudo apt-get install openjdk-8-jdk\n",
        "#!unzip tools.zip\n",
        "#!rm tools.zip\n",
        "!wget -O tools.zip https://dl.google.com/android/repository/build-tools_r34-rc3-linux.zip && unzip -o tools.zip && rm tools.zip\n",
        "\n",
        "OLD_ENV_PATH = %env PATH\n",
        "%env PATH=$OLD_ENV_PATH:/content/android-UpsideDownCake/\n",
        "\n",
        "# temp-Verzeichnis für spätere Verwendung erstellen\n",
        "os.makedirs('/content/temp/', exist_ok=True)"
      ]
    },
    {
      "cell_type": "markdown",
      "metadata": {
        "id": "s54FXuw8JE2v"
      },
      "source": [
        "### App-Liste abfragen, DataFrame vorbereiten."
      ]
    },
    {
      "cell_type": "code",
      "execution_count": null,
      "metadata": {
        "colab": {
          "base_uri": "https://localhost:8080/",
          "height": 424
        },
        "collapsed": true,
        "id": "J3Ge3vUROy9U",
        "outputId": "0f120750-66b3-420d-845b-01726b725fdd"
      },
      "outputs": [],
      "source": [
        "# Top 100 aus allen Kategorien des Play Stores\n",
        "\n",
        "from google_play_scraper import lists\n",
        "import pandas as pd\n",
        "# Gewählte Kategorie\n",
        "collection = \"topselling_free\"\n",
        "# Liste der Kategorien\n",
        "category = [\n",
        "    'ART_AND_DESIGN',\n",
        "    'AUTO_AND_VEHICLES',\n",
        "    'BEAUTY',\n",
        "    'BOOKS_AND_REFERENCE',\n",
        "    'BUSINESS',\n",
        "    'COMICS',\n",
        "    'COMMUNICATION',\n",
        "    'DATING',\n",
        "    'EDUCATION',\n",
        "    'ENTERTAINMENT',\n",
        "    'EVENTS',\n",
        "    'FINANCE',\n",
        "    'FOOD_AND_DRINK',\n",
        "    'HEALTH_AND_FITNESS',\n",
        "    'HOUSE_AND_HOME',\n",
        "    'LIBRARIES_AND_DEMO',\n",
        "    'LIFESTYLE',\n",
        "    'MAPS_AND_NAVIGATION',\n",
        "    'MEDICAL',\n",
        "    'MUSIC_AND_AUDIO',\n",
        "    'NEWS_AND_MAGAZINES',\n",
        "    'PARENTING',\n",
        "    'PERSONALIZATION',\n",
        "    'PHOTOGRAPHY',\n",
        "    'PRODUCTIVITY',\n",
        "    'SHOPPING',\n",
        "    'SOCIAL',\n",
        "    'SPORTS',\n",
        "    'TOOLS',\n",
        "    'TRAVEL_AND_LOCAL',\n",
        "    'VIDEO_PLAYERS',\n",
        "    'WEATHER'\n",
        "    ]\n",
        "\n",
        "# Liste für alle Kategorien befüllen\n",
        "temp_data = []\n",
        "for cat in category:\n",
        "  top_list = lists(cat, collection, num=100)\n",
        "  temp_data += [{'appId': app['appId'], 'appName': app['title'], 'appCategory': cat} for app in top_list]\n",
        "\n",
        "data = pd.DataFrame(temp_data)\n",
        "\n",
        "display(data)"
      ]
    },
    {
      "cell_type": "code",
      "execution_count": null,
      "metadata": {
        "id": "x7WtAtyNINuz"
      },
      "outputs": [],
      "source": [
        "# Exportiere die Top 100\n",
        "data.to_csv('top100_all_category.csv')"
      ]
    },
    {
      "cell_type": "markdown",
      "metadata": {
        "id": "nKOrnbqxJMBY"
      },
      "source": [
        "### Apps herunterladen und XAPKs identifizieren."
      ]
    },
    {
      "cell_type": "code",
      "execution_count": null,
      "metadata": {
        "collapsed": true,
        "id": "MCd0_qLasLCt"
      },
      "outputs": [],
      "source": [
        "%%capture\n",
        "# Apps mittels APKeep herunterladen\n",
        "!mkdir apks\n",
        "data.to_csv(\"/content/apks.csv\", columns=['appId'], index=False, header=False)\n",
        "!/content/apkeep -c /content/apks.csv -r 8 /content/apks/;\n",
        "!rm /content/apks.csv\n",
        "\n",
        "# Einige Apps werden als XAPK verteilt. Diese müssen anders behandelt werden und werden daher hier anhand der Dateiendung markiert.\n",
        "data[\"isXAPK\"] = data[\"appId\"].apply(lambda id: os.path.isfile(f\"/content/apks/{id}.xapk\"))\n",
        "# Die APKs mancher Apps sind nicht auf APK-Pure verfügbar. Falls diese nicht heruntergeladen werden konnten müssen diese später übersprungen werden.\n",
        "data[\"apkDownloaded\"] = data[\"appId\"].apply(lambda id: os.path.isfile(f\"/content/apks/{id}.xapk\") or os.path.isfile(f\"/content/apks/{id}.apk\"))"
      ]
    },
    {
      "cell_type": "code",
      "execution_count": null,
      "metadata": {
        "colab": {
          "base_uri": "https://localhost:8080/",
          "height": 424
        },
        "id": "WGEb6LlwnQgP",
        "outputId": "656ef9f9-52de-4b44-f3a2-86bdda45debe"
      },
      "outputs": [],
      "source": [
        "display(data)"
      ]
    },
    {
      "cell_type": "markdown",
      "metadata": {
        "id": "n0I3-tg7JUEM"
      },
      "source": [
        "### Definitionen zur Framework-Identifizierung\n"
      ]
    },
    {
      "cell_type": "code",
      "execution_count": null,
      "metadata": {
        "id": "DDrBdtYURR7o"
      },
      "outputs": [],
      "source": [
        "frameworks = {\n",
        "    'Flutter': {\n",
        "        # Dateien, die sich direkt in der APK befinden. Angabe als Pfade, z.B. \"res/layout/facebook_fragment_sso_login.xml\"\n",
        "        'files': [\"lib/arm64-v8a/libflutter.so\", \"assets/flutter_assets/kernel_blob.bin\"],\n",
        "        # Strings, die in den classes*.dex-Dateien mittels dexdump gesucht werden. z.B. \"com/facebook\"\n",
        "        'classes': ['io/flutter']\n",
        "    },\n",
        "    'React Native': {\n",
        "        'files': [\"libreactnativejni.so\", \"assets/index.android.bundle\"],\n",
        "        'classes': ['com/facebook/react']\n",
        "    },\n",
        "    'Cordova': {\n",
        "        'files': [\"assets/www/index.html\", \"assets/www/cordova.js\", \"assets/www/cordova_plugins.js\", \"org/apache/cordova\"],\n",
        "        'classes': []\n",
        "    },\n",
        "    'Xamarin': {\n",
        "        'files': [\"assemblies/assemblies.blob\", \"assemblies/assemblies.manifest\"],\n",
        "        'classes': ['com/xamarin']\n",
        "    },\n",
        "}"
      ]
    },
    {
      "cell_type": "code",
      "execution_count": null,
      "metadata": {
        "colab": {
          "base_uri": "https://localhost:8080/",
          "height": 1000
        },
        "id": "DLJgnVH_wOJl",
        "outputId": "5cb79f0a-0c42-4b0e-c7ea-c7c46b9e5ebc"
      },
      "outputs": [],
      "source": [
        "# Untersuchung der APKs anhand verschiedener Merkmale, um das verwendete Framework zu bestimmen.\n",
        "from zipfile import ZipFile\n",
        "import re\n",
        "import subprocess\n",
        "\n",
        "# Erkennungsmerkmale Dateinamen\n",
        "def detect_framework_via_files(apk: ZipFile):\n",
        "    files_in_apk = apk.namelist()\n",
        "    for framework in frameworks:\n",
        "        indicator_paths = frameworks[framework]['files']\n",
        "        if any(path in files_in_apk for path in indicator_paths):\n",
        "            return framework\n",
        "\n",
        "# Erkennungsmerkmale dexdump\n",
        "def detect_framework_via_classes(appId, apk: ZipFile):\n",
        "    for file in filter(lambda f: re.search(\"^classes\\d*\\.dex$\", f), apk.namelist()):\n",
        "      try:\n",
        "        apk.extract(file, path=f\"/content/temp/{appId}/\")\n",
        "        dexdump = subprocess.check_output([\"dexdump\", \"-nje\", f\"/content/temp/{appId}/{file}\"])\n",
        "\n",
        "        for framework in frameworks:\n",
        "            patterns = frameworks[framework]['classes']\n",
        "            for pattern in patterns:\n",
        "                grep = subprocess.Popen([f\"grep\", pattern], stdin=subprocess.PIPE, stdout=subprocess.PIPE)\n",
        "                out, err = grep.communicate(input=dexdump)\n",
        "                if len(out) > 0:\n",
        "                  return framework\n",
        "        os.unlink(f\"/content/temp/{appId}/{file}\")\n",
        "      except:\n",
        "        print(\"dexdump error\")\n",
        "\n",
        "def get_apk(appId, isXAPK):\n",
        "    filepath = f\"/content/apks/{appId}.{'x' if isXAPK else ''}apk\"\n",
        "    if not os.path.isfile(filepath):\n",
        "        print(f\"[{appId}] Datei existiert nicht: '{filepath}'\")\n",
        "        return None\n",
        "    try:\n",
        "        zip = ZipFile(filepath, 'r')\n",
        "    except: # Falls der Download einer APK unterbrochen wird kann es sich um eine ungültige ZIP-Datei handeln\n",
        "        return None\n",
        "    # Falls es sich hierbei um eine XAPK handelt, befindet sich innerhalb der XAPK die gleichnamige APK, die eigentlich benötigt wird.\n",
        "    if isXAPK:\n",
        "        apkname = f\"{appId}.apk\"\n",
        "        if apkname not in zip.namelist():\n",
        "            return None\n",
        "        # Die APK wird temporär extrahiert, um stattdessen in dieser nach den Framework-Dateien zu suchen\n",
        "        zip.getinfo(apkname).filename = f\"{appId}.apk\"\n",
        "        zip.extract(apkname, path=\"/content/apk/\")\n",
        "        zip.close()\n",
        "        zip = ZipFile(f\"/content/apk/{appId}.apk\", 'r')\n",
        "        # `zip` bezieht sich nun auf die APK innerhalb der XAPK\n",
        "\n",
        "    return zip\n",
        "\n",
        "def detect_single(entry):\n",
        "    i, row = entry\n",
        "    isXAPK = row[\"isXAPK\"]\n",
        "\n",
        "    zip = get_apk(row['appId'], isXAPK)\n",
        "    if not zip:\n",
        "        return\n",
        "\n",
        "    # Zunächst Dateien in APK durchsuchen\n",
        "    framework = detect_framework_via_files(zip)\n",
        "    # Sonst Klassennamen durchsuchen\n",
        "    if not framework:\n",
        "      framework = detect_framework_via_classes(row['appId'], zip)\n",
        "    # Falls immer noch nichts gefunden wurde ist es wahrscheinlich (?) Native\n",
        "    if not framework:\n",
        "        framework = \"Unerkannt?\"\n",
        "    zip.close()\n",
        "    if framework:\n",
        "      print(f\"detected fw: {framework} at id : {i} from app : {row['appId']}\")\n",
        "    data.at[i, \"appFramework\"] = framework\n",
        "\n",
        "for i, row in data[data.apkDownloaded == True].iterrows():\n",
        "  detect_single((i,row))\n",
        "\n",
        "display(data)\n",
        "\n",
        "# Ergebnis im CSV-Format abspeichern\n",
        "\n",
        "data.to_csv('detected_frameworks.csv')"
      ]
    },
    {
      "cell_type": "code",
      "execution_count": null,
      "metadata": {
        "colab": {
          "base_uri": "https://localhost:8080/",
          "height": 424
        },
        "id": "zob3GZC_NHp3",
        "outputId": "dafa1b36-afcc-40ae-c00b-ef28398fb973"
      },
      "outputs": [],
      "source": [
        "display(data)"
      ]
    },
    {
      "cell_type": "markdown",
      "metadata": {
        "id": "LyZU0SWfJyAv"
      },
      "source": [
        "### Visualisierungen erstellen."
      ]
    },
    {
      "cell_type": "code",
      "execution_count": null,
      "metadata": {
        "colab": {
          "base_uri": "https://localhost:8080/",
          "height": 607
        },
        "id": "AEHC9dwpjf3U",
        "outputId": "c462d24a-59c2-4a4e-d0c6-4fb050d6c876"
      },
      "outputs": [],
      "source": [
        "import matplotlib.pyplot as plt\n",
        "\n",
        "df = pd.DataFrame(data)\n",
        "\n",
        "# Anzahl der Frameworkerkennungen berechnen\n",
        "framework_counts = df['appFramework'].value_counts()\n",
        "\n",
        "# Anzeige in einem Bar-Chart\n",
        "plt.figure(figsize=(8, 6))\n",
        "\n",
        "# Daten einfügen\n",
        "framework_counts.plot(kind='bar', color='skyblue')\n",
        "\n",
        "# Titel und Beschriftungen einfügen\n",
        "plt.title('Occurrences of appFramework')\n",
        "plt.xlabel('Framework (Count)')\n",
        "plt.ylabel('Count')\n",
        "\n",
        "# Modify x-axis labels to include framework names and their counts\n",
        "# Markierungen entlang der X-Achse setzen: <framework> (<count>)\n",
        "plt.xticks(ticks=range(len(framework_counts)),\n",
        "           labels=[f'{framework} ({count})' for framework, count in framework_counts.items()],\n",
        "           rotation=45)\n",
        "\n",
        "# Diagramm anzeigen\n",
        "plt.tight_layout()\n",
        "plt.show()"
      ]
    },
    {
      "cell_type": "code",
      "execution_count": null,
      "metadata": {
        "colab": {
          "base_uri": "https://localhost:8080/"
        },
        "id": "gER_nzUuIgSH",
        "outputId": "f0977b44-1242-4604-bfe1-c7fdc0a5513a"
      },
      "outputs": [],
      "source": [
        "len_dataset_downloaded = len(data[data.apkDownloaded == True])\n",
        "print(len_dataset_downloaded)\n",
        "\n",
        "len_gesamt_cp = data.appFramework.isnull().sum()\n",
        "print(len_gesamt_cp)\n",
        "\n",
        "anteil_flutter = len(data[data.appFramework == 'Flutter']) / len_dataset_downloaded\n",
        "print(anteil_flutter)\n",
        "\n",
        "anteil_react = len(data[data.appFramework == 'React Native']) / len_dataset_downloaded\n",
        "print(anteil_react)\n",
        "\n",
        "anteil_cordova = len(data[data.appFramework == 'Cordova']) / len_dataset_downloaded\n",
        "print(anteil_cordova)\n",
        "\n",
        "anteil_xamarin = len(data[data.appFramework == 'Xamarin']) / len_dataset_downloaded\n",
        "print(anteil_xamarin)\n",
        "\n",
        "sum_cp = anteil_flutter + anteil_react + anteil_cordova + anteil_xamarin\n",
        "print(sum_cp)\n",
        "\n",
        "print(data['appFramework'].value_counts())\n"
      ]
    },
    {
      "cell_type": "code",
      "execution_count": null,
      "metadata": {
        "colab": {
          "base_uri": "https://localhost:8080/"
        },
        "id": "Z_RzH4z59Fi4",
        "outputId": "b4ee5cb5-4bf8-4d4f-b0bd-8611a76a4428"
      },
      "outputs": [],
      "source": [
        "# Alle APK-Dateien die nicht Heruntergeladen wurden herausfiltern\n",
        "result = data[data.apkDownloaded == True]\n",
        "\n",
        "# Alle duplizierten Apps entfernen\n",
        "result = result.drop_duplicates(subset=['appName'])\n",
        "\n",
        "result.describe()\n",
        "\n",
        "n = len(result)\n",
        "print(f\"Gesamtmenge : {n}\")\n",
        "\n",
        "cnt_ges = len(result[result.appFramework != 'Unerkannt?'])\n",
        "ant_ges = round(((cnt_ges / n)*100), 2)\n",
        "print(f\"Davon CPF             : {cnt_ges}     in prozent: {ant_ges}%\")\n",
        "\n",
        "\n",
        "cnt_flutter = len(result[result.appFramework == 'Flutter'])\n",
        "ant_flutter = round(((cnt_flutter / n)*100), 2)\n",
        "print(f\"Davon Flutter         : {cnt_flutter}     in prozent: {ant_flutter}%\")\n",
        "\n",
        "cnt_react = len(result[result.appFramework == 'React Native'])\n",
        "ant_react = round(((cnt_react / n)*100), 2)\n",
        "print(f\"Davon React Native    : {cnt_react}     in prozent: {ant_react}%\")\n",
        "\n",
        "cnt_cordova = len(result[result.appFramework == 'Cordova'])\n",
        "ant_cordova = round(((cnt_cordova / n)*100), 2)\n",
        "print(f\"Davon Cordova         : {cnt_cordova}      in prozent: {ant_cordova}%\")\n",
        "\n",
        "cnt_xamarin = len(result[result.appFramework == 'Xamarin'])\n",
        "ant_xamarin = round(((cnt_xamarin / n)*100), 2)\n",
        "print(f\"Davon Xamarin         : {cnt_xamarin}      in prozent: {ant_xamarin}%\")"
      ]
    },
    {
      "cell_type": "code",
      "execution_count": null,
      "metadata": {
        "colab": {
          "base_uri": "https://localhost:8080/",
          "height": 722
        },
        "id": "g5ov6jDVLyN-",
        "outputId": "abc05f50-32fe-484d-832d-6e3569ae02f4"
      },
      "outputs": [],
      "source": [
        "pie_data = {\n",
        "    'Flutter': cnt_flutter,\n",
        "    'React Native': cnt_react,\n",
        "    'Cordova': cnt_cordova,\n",
        "    'Xamarin': cnt_xamarin\n",
        "}\n",
        "total = sum(pie_data.values())\n",
        "\n",
        "labels = []\n",
        "sizes = []\n",
        "for name, value in pie_data.items():\n",
        "    percentage = value / total\n",
        "    labels.append(f'{name}\\n{percentage*100:.2f}% ({value})')\n",
        "    sizes.append(value)\n",
        "\n",
        "plt.rc('figure', figsize=(9,8.27))\n",
        "\n",
        "title = plt.title('Erkannte Cross-Plattform-Frameworks')\n",
        "plt.gca().axis(\"equal\")\n",
        "pie = plt.pie(sizes, startangle=0, labels=labels, labeldistance=0.76, textprops={'fontsize': 14, 'ha': 'center', 'va': 'center', 'weight': 'bold'})\n",
        "plt.savefig(\"detected_cpf.png\")"
      ]
    }
  ],
  "metadata": {
    "colab": {
      "name": "notebook_playstore_cloud.ipynb",
      "provenance": []
    },
    "kernelspec": {
      "display_name": "Python 3",
      "language": "python",
      "name": "python3"
    },
    "language_info": {
      "codemirror_mode": {
        "name": "ipython",
        "version": 3
      },
      "file_extension": ".py",
      "mimetype": "text/x-python",
      "name": "python",
      "nbconvert_exporter": "python",
      "pygments_lexer": "ipython3",
      "version": "3.13.1"
    }
  },
  "nbformat": 4,
  "nbformat_minor": 0
}
